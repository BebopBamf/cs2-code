{
 "cells": [
  {
   "cell_type": "code",
   "execution_count": 7,
   "id": "93f4ca26-9369-4c3b-8167-e57ece04d419",
   "metadata": {
    "_cell_guid": "b1076dfc-b9ad-4769-8c92-a6c4dae69d19",
    "_uuid": "8f2839f25d086af736a60e9eeb907d3b93b6e0e5",
    "id": "vfF0YQC_poLs"
   },
   "outputs": [],
   "source": [
    "import pandas as pd\n",
    "import numpy as np\n",
    "import seaborn as sns\n",
    "import matplotlib.pyplot as plt\n",
    "from sklearn.datasets import load_iris\n",
    "from sklearn.model_selection import train_test_split\n",
    "from sklearn.metrics import confusion_matrix,accuracy_score,classification_report,roc_auc_score, roc_curve\n",
    "from sklearn import svm\n",
    "from xgboost import XGBClassifier\n",
    "from scripts.utils import load_instafake, load_instafinal"
   ]
  },
  {
   "cell_type": "code",
   "execution_count": 9,
   "id": "465194fd-0c20-4dd5-b0dc-980982f33e65",
   "metadata": {
    "editable": true,
    "slideshow": {
     "slide_type": ""
    },
    "tags": []
   },
   "outputs": [],
   "source": [
    "iris_data = load_iris()\n",
    "instafake_data = load_instafake()\n",
    "instafinal_data = load_instafinal()"
   ]
  },
  {
   "cell_type": "markdown",
   "id": "4520b1e5-1164-4a74-b5f6-5001c3195d15",
   "metadata": {
    "editable": true,
    "slideshow": {
     "slide_type": ""
    },
    "tags": []
   },
   "source": [
    "# XGBoost"
   ]
  },
  {
   "cell_type": "code",
   "execution_count": 21,
   "id": "8b34dbd2-b2f9-42da-af7f-f733ff042ad0",
   "metadata": {
    "editable": true,
    "slideshow": {
     "slide_type": ""
    },
    "tags": []
   },
   "outputs": [],
   "source": [
    "X_train_iris, X_test_iris, y_train_iris, y_test_iris = train_test_split(iris_data['data'], iris_data['target'], test_size=.2)\n",
    "# create model instance\n",
    "bst = XGBClassifier(objective='binary:logistic')\n",
    "# fit model\n",
    "bst.fit(X_train_iris, y_train_iris)\n",
    "# make predictions\n",
    "preds = bst.predict(X_test_iris)"
   ]
  },
  {
   "cell_type": "code",
   "execution_count": 22,
   "id": "ce7c642e-50b4-4bc2-b21d-4a48db9ab531",
   "metadata": {
    "editable": true,
    "slideshow": {
     "slide_type": ""
    },
    "tags": []
   },
   "outputs": [
    {
     "name": "stdout",
     "output_type": "stream",
     "text": [
      "              precision    recall  f1-score   support\n",
      "\n",
      "           0       1.00      1.00      1.00         9\n",
      "           1       1.00      0.92      0.96        12\n",
      "           2       0.90      1.00      0.95         9\n",
      "\n",
      "    accuracy                           0.97        30\n",
      "   macro avg       0.97      0.97      0.97        30\n",
      "weighted avg       0.97      0.97      0.97        30\n",
      "\n"
     ]
    }
   ],
   "source": [
    "print(classification_report(preds, y_test_iris))"
   ]
  },
  {
   "cell_type": "code",
   "execution_count": 25,
   "id": "9a633cb1-6f0a-4974-85f2-ac94f056ca49",
   "metadata": {
    "editable": true,
    "slideshow": {
     "slide_type": ""
    },
    "tags": []
   },
   "outputs": [],
   "source": [
    "x_train,x_test,y_train,y_test = train_test_split(instafake_data['data'],instafake_data['target'], test_size=.2)"
   ]
  },
  {
   "cell_type": "code",
   "execution_count": 33,
   "id": "93b6d0d3-c40c-4b9d-9d65-0a7da7cd57c5",
   "metadata": {
    "editable": true,
    "slideshow": {
     "slide_type": ""
    },
    "tags": []
   },
   "outputs": [],
   "source": [
    "xg_clf = XGBClassifier(objective='binary:logistic')\n",
    "xg_clf.fit(x_train,y_train)\n",
    "xg_res = xg_clf.predict(x_test)"
   ]
  },
  {
   "cell_type": "code",
   "execution_count": 34,
   "id": "903fb742-9cb0-4e10-ba93-8e5907cbfa17",
   "metadata": {
    "editable": true,
    "slideshow": {
     "slide_type": ""
    },
    "tags": []
   },
   "outputs": [
    {
     "name": "stdout",
     "output_type": "stream",
     "text": [
      "              precision    recall  f1-score   support\n",
      "\n",
      "           0       0.99      0.97      0.98       202\n",
      "           1       0.84      0.97      0.90        37\n",
      "\n",
      "    accuracy                           0.97       239\n",
      "   macro avg       0.92      0.97      0.94       239\n",
      "weighted avg       0.97      0.97      0.97       239\n",
      "\n"
     ]
    }
   ],
   "source": [
    "print(classification_report(xg_res, y_test))"
   ]
  }
 ],
 "metadata": {
  "kernelspec": {
   "display_name": "Python 3 (ipykernel)",
   "language": "python",
   "name": "python3"
  },
  "language_info": {
   "codemirror_mode": {
    "name": "ipython",
    "version": 3
   },
   "file_extension": ".py",
   "mimetype": "text/x-python",
   "name": "python",
   "nbconvert_exporter": "python",
   "pygments_lexer": "ipython3",
   "version": "3.11.8"
  }
 },
 "nbformat": 4,
 "nbformat_minor": 5
}
